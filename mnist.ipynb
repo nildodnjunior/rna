{
  "nbformat": 4,
  "nbformat_minor": 0,
  "metadata": {
    "colab": {
      "provenance": [],
      "gpuType": "T4",
      "authorship_tag": "ABX9TyNceOi5mHnd4akdDguV48Nx",
      "include_colab_link": true
    },
    "kernelspec": {
      "name": "python3",
      "display_name": "Python 3"
    },
    "language_info": {
      "name": "python"
    },
    "accelerator": "GPU"
  },
  "cells": [
    {
      "cell_type": "markdown",
      "metadata": {
        "id": "view-in-github",
        "colab_type": "text"
      },
      "source": [
        "<a href=\"https://colab.research.google.com/github/nildodnjunior/rna/blob/master/mnist.ipynb\" target=\"_parent\"><img src=\"https://colab.research.google.com/assets/colab-badge.svg\" alt=\"Open In Colab\"/></a>"
      ]
    },
    {
      "cell_type": "code",
      "execution_count": 1,
      "metadata": {
        "id": "OvZrRtOpk905"
      },
      "outputs": [],
      "source": [
        "!pip install python-mnist > /dev/null\n",
        "!pip install wget > /dev/null\n",
        "!pip install sh > /dev/null"
      ]
    },
    {
      "cell_type": "code",
      "source": [
        "import wget\n",
        "import os\n",
        "from sh import gunzip\n",
        "from mnist import MNIST\n",
        "import numpy as np\n",
        "\n",
        "from sklearn.pipeline import Pipeline\n",
        "from sklearn.preprocessing import MinMaxScaler\n",
        "from sklearn.metrics import accuracy_score\n",
        "from tensorflow.keras.utils import to_categorical\n",
        "from tensorflow import keras\n",
        "from tensorflow.keras import layers\n",
        "from sklearn.base import BaseEstimator, ClassifierMixin, TransformerMixin"
      ],
      "metadata": {
        "id": "GSB59B7DkWpa"
      },
      "execution_count": 2,
      "outputs": []
    },
    {
      "cell_type": "markdown",
      "source": [
        "Função que baixa os arquivos do dataset do site http://yann.lecun.com/exdb/mnist/index.html e retorna as imagens e labels de treino e teste."
      ],
      "metadata": {
        "id": "t1s0-fkBQzhn"
      }
    },
    {
      "cell_type": "code",
      "source": [
        "def load_mnist():\n",
        "    if not os.path.exists('./mnist'):\n",
        "        os.makedirs(\"./mnist\")\n",
        "\n",
        "    if 'train-images-idx3-ubyte' not in os.listdir('mnist'):\n",
        "        wget.download('http://yann.lecun.com/exdb/mnist/train-images-idx3-ubyte.gz', 'mnist')\n",
        "        gunzip('mnist/train-images-idx3-ubyte.gz')\n",
        "    if 'train-labels-idx1-ubyte' not in os.listdir('mnist'):\n",
        "        wget.download('http://yann.lecun.com/exdb/mnist/train-labels-idx1-ubyte.gz', 'mnist')\n",
        "        gunzip('mnist/train-labels-idx1-ubyte.gz')\n",
        "    if 't10k-images-idx3-ubyte' not in os.listdir('mnist'):\n",
        "        wget.download('http://yann.lecun.com/exdb/mnist/t10k-images-idx3-ubyte.gz', 'mnist')\n",
        "        gunzip('mnist/t10k-images-idx3-ubyte.gz')\n",
        "    if 't10k-labels-idx1-ubyte' not in os.listdir('mnist'):\n",
        "        wget.download('http://yann.lecun.com/exdb/mnist/t10k-labels-idx1-ubyte.gz', 'mnist')\n",
        "        gunzip('mnist/t10k-labels-idx1-ubyte.gz')\n",
        "\n",
        "    mnist = MNIST('mnist')\n",
        "    train_images, train_labels = mnist.load_training()\n",
        "    test_images, test_labels = mnist.load_testing()\n",
        "\n",
        "    train_images = np.array(train_images)\n",
        "    train_labels = np.array(train_labels)\n",
        "    test_images = np.array(test_images)\n",
        "    test_labels = np.array(test_labels)\n",
        "\n",
        "    return (train_images, train_labels), (test_images, test_labels)"
      ],
      "metadata": {
        "id": "NegGcTXaQhkG"
      },
      "execution_count": 3,
      "outputs": []
    },
    {
      "cell_type": "code",
      "source": [
        "def define_arquitetura(input_shape, output_shape):\n",
        "  inputs = keras.Input(shape=input_shape)\n",
        "  x = layers.Conv2D(filters=32, kernel_size=3, activation=\"relu\")(inputs)\n",
        "  x = layers.MaxPooling2D(pool_size=2)(x)\n",
        "  x = layers.Conv2D(filters=64, kernel_size=3, activation=\"relu\")(x)\n",
        "  x = layers.MaxPooling2D(pool_size=2)(x)\n",
        "  x = layers.Conv2D(filters=128, kernel_size=3, activation=\"relu\")(x)\n",
        "  x = layers.Flatten()(x)\n",
        "  outputs = layers.Dense(output_shape, activation=\"softmax\")(x)\n",
        "  return keras.Model(inputs=inputs, outputs=outputs)\n",
        "\n",
        "class DividePor255(BaseEstimator, TransformerMixin):\n",
        "  def fit(self, X, y):\n",
        "    return self\n",
        "  def transform(self, X, y=None):\n",
        "    return X.astype(\"float32\") / 255\n",
        "\n",
        "class MudaShape(BaseEstimator, TransformerMixin):\n",
        "  def fit(self, X, y):\n",
        "    return self\n",
        "  def transform(self, X, y=None):\n",
        "    return X.reshape((-1, 28, 28, 1))"
      ],
      "metadata": {
        "id": "PjqUIPObvFtC"
      },
      "execution_count": 4,
      "outputs": []
    },
    {
      "cell_type": "code",
      "source": [
        "class RedeNeural(BaseEstimator, ClassifierMixin):\n",
        "  def __init__(self, epochs=5, batch_size=128):\n",
        "    self.epochs = epochs\n",
        "    self.batch_size = batch_size\n",
        "  def fit(self, X, y):\n",
        "    self.labels, ids = np.unique(y, return_inverse=True)\n",
        "    yhot = keras.utils.to_categorical(ids)\n",
        "    self.model = define_arquitetura(X.shape[1:], yhot.shape[1])\n",
        "    self.model.compile(optimizer=\"rmsprop\",\n",
        "                       loss=\"categorical_crossentropy\",\n",
        "                       metrics=[\"accuracy\"])\n",
        "    self.model.fit(X, yhot, epochs=self.epochs, batch_size=self.batch_size)\n",
        "    return self\n",
        "  def predict(self, X, y=None):\n",
        "    probabilities = self.model.predict(X)\n",
        "    ypred = self.labels[np.argmax(probabilities, axis=1)]\n",
        "    return ypred"
      ],
      "metadata": {
        "id": "DfPrTMExrOP3"
      },
      "execution_count": 5,
      "outputs": []
    },
    {
      "cell_type": "code",
      "source": [
        "(train_images, train_labels), (test_images, test_labels) = load_mnist()"
      ],
      "metadata": {
        "id": "qMN2Nn4akKUh",
        "colab": {
          "base_uri": "https://localhost:8080/"
        },
        "outputId": "b74c0a08-ae2e-4be2-a789-c9539ddaed80"
      },
      "execution_count": 6,
      "outputs": [
        {
          "output_type": "stream",
          "name": "stderr",
          "text": [
            "/usr/local/lib/python3.10/dist-packages/sh.py:1980: RuntimeWarning: os.fork() was called. os.fork() is incompatible with multithreaded code, and JAX is multithreaded, so this will likely lead to a deadlock.\n",
            "  self.pid = os.fork()\n"
          ]
        }
      ]
    },
    {
      "cell_type": "code",
      "source": [
        "modelo = Pipeline([\n",
        "    (\"scaler\", DividePor255()),\n",
        "    (\"reshape\", MudaShape()),\n",
        "    (\"ann\", RedeNeural())\n",
        "])\n",
        "\n",
        "modelo.fit(train_images, train_labels)\n",
        "ypred = modelo.predict(test_images)\n",
        "accuracy_score(test_labels, ypred)"
      ],
      "metadata": {
        "colab": {
          "base_uri": "https://localhost:8080/"
        },
        "id": "JVy86QINraPb",
        "outputId": "6cb1865d-bda0-4a07-830d-d7bfd6dcf754"
      },
      "execution_count": 7,
      "outputs": [
        {
          "output_type": "stream",
          "name": "stdout",
          "text": [
            "Epoch 1/5\n",
            "469/469 [==============================] - 12s 9ms/step - loss: 0.2246 - accuracy: 0.9309\n",
            "Epoch 2/5\n",
            "469/469 [==============================] - 2s 5ms/step - loss: 0.0524 - accuracy: 0.9837\n",
            "Epoch 3/5\n",
            "469/469 [==============================] - 2s 5ms/step - loss: 0.0352 - accuracy: 0.9891\n",
            "Epoch 4/5\n",
            "469/469 [==============================] - 2s 5ms/step - loss: 0.0258 - accuracy: 0.9919\n",
            "Epoch 5/5\n",
            "469/469 [==============================] - 2s 5ms/step - loss: 0.0199 - accuracy: 0.9941\n",
            "313/313 [==============================] - 1s 2ms/step\n"
          ]
        },
        {
          "output_type": "execute_result",
          "data": {
            "text/plain": [
              "0.9915"
            ]
          },
          "metadata": {},
          "execution_count": 7
        }
      ]
    }
  ]
}